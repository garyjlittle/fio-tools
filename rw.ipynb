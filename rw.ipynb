{
 "cells": [
  {
   "cell_type": "code",
   "execution_count": 2,
   "metadata": {},
   "outputs": [],
   "source": [
    "import pandas as pd\n",
    "import matplotlib.pyplot as plt\n"
   ]
  },
  {
   "cell_type": "code",
   "execution_count": 3,
   "metadata": {},
   "outputs": [],
   "source": [
    "file=pd.read_csv(\"/Users/gary/git/fio-tools/fio-iop-logs/random-rw-4-jobs_iops.1.log\",names=[\"time\",\"value\",\"direction\",\"d1\",\"d2\"])"
   ]
  },
  {
   "cell_type": "code",
   "execution_count": 4,
   "metadata": {},
   "outputs": [
    {
     "data": {
      "text/html": [
       "<div>\n",
       "<style scoped>\n",
       "    .dataframe tbody tr th:only-of-type {\n",
       "        vertical-align: middle;\n",
       "    }\n",
       "\n",
       "    .dataframe tbody tr th {\n",
       "        vertical-align: top;\n",
       "    }\n",
       "\n",
       "    .dataframe thead th {\n",
       "        text-align: right;\n",
       "    }\n",
       "</style>\n",
       "<table border=\"1\" class=\"dataframe\">\n",
       "  <thead>\n",
       "    <tr style=\"text-align: right;\">\n",
       "      <th></th>\n",
       "      <th>time</th>\n",
       "      <th>value</th>\n",
       "      <th>direction</th>\n",
       "      <th>d1</th>\n",
       "      <th>d2</th>\n",
       "    </tr>\n",
       "  </thead>\n",
       "  <tbody>\n",
       "    <tr>\n",
       "      <th>0</th>\n",
       "      <td>1000</td>\n",
       "      <td>34614</td>\n",
       "      <td>0</td>\n",
       "      <td>0</td>\n",
       "      <td>0</td>\n",
       "    </tr>\n",
       "    <tr>\n",
       "      <th>1</th>\n",
       "      <td>1000</td>\n",
       "      <td>34659</td>\n",
       "      <td>1</td>\n",
       "      <td>0</td>\n",
       "      <td>0</td>\n",
       "    </tr>\n",
       "    <tr>\n",
       "      <th>2</th>\n",
       "      <td>2000</td>\n",
       "      <td>34561</td>\n",
       "      <td>0</td>\n",
       "      <td>0</td>\n",
       "      <td>0</td>\n",
       "    </tr>\n",
       "    <tr>\n",
       "      <th>3</th>\n",
       "      <td>2000</td>\n",
       "      <td>34126</td>\n",
       "      <td>1</td>\n",
       "      <td>0</td>\n",
       "      <td>0</td>\n",
       "    </tr>\n",
       "    <tr>\n",
       "      <th>4</th>\n",
       "      <td>3000</td>\n",
       "      <td>34707</td>\n",
       "      <td>0</td>\n",
       "      <td>0</td>\n",
       "      <td>0</td>\n",
       "    </tr>\n",
       "    <tr>\n",
       "      <th>...</th>\n",
       "      <td>...</td>\n",
       "      <td>...</td>\n",
       "      <td>...</td>\n",
       "      <td>...</td>\n",
       "      <td>...</td>\n",
       "    </tr>\n",
       "    <tr>\n",
       "      <th>115</th>\n",
       "      <td>58003</td>\n",
       "      <td>3182</td>\n",
       "      <td>1</td>\n",
       "      <td>0</td>\n",
       "      <td>0</td>\n",
       "    </tr>\n",
       "    <tr>\n",
       "      <th>116</th>\n",
       "      <td>59003</td>\n",
       "      <td>3248</td>\n",
       "      <td>0</td>\n",
       "      <td>0</td>\n",
       "      <td>0</td>\n",
       "    </tr>\n",
       "    <tr>\n",
       "      <th>117</th>\n",
       "      <td>59003</td>\n",
       "      <td>3348</td>\n",
       "      <td>1</td>\n",
       "      <td>0</td>\n",
       "      <td>0</td>\n",
       "    </tr>\n",
       "    <tr>\n",
       "      <th>118</th>\n",
       "      <td>60004</td>\n",
       "      <td>3334</td>\n",
       "      <td>0</td>\n",
       "      <td>0</td>\n",
       "      <td>0</td>\n",
       "    </tr>\n",
       "    <tr>\n",
       "      <th>119</th>\n",
       "      <td>60004</td>\n",
       "      <td>3194</td>\n",
       "      <td>1</td>\n",
       "      <td>0</td>\n",
       "      <td>0</td>\n",
       "    </tr>\n",
       "  </tbody>\n",
       "</table>\n",
       "<p>120 rows × 5 columns</p>\n",
       "</div>"
      ],
      "text/plain": [
       "      time  value  direction  d1  d2\n",
       "0     1000  34614          0   0   0\n",
       "1     1000  34659          1   0   0\n",
       "2     2000  34561          0   0   0\n",
       "3     2000  34126          1   0   0\n",
       "4     3000  34707          0   0   0\n",
       "..     ...    ...        ...  ..  ..\n",
       "115  58003   3182          1   0   0\n",
       "116  59003   3248          0   0   0\n",
       "117  59003   3348          1   0   0\n",
       "118  60004   3334          0   0   0\n",
       "119  60004   3194          1   0   0\n",
       "\n",
       "[120 rows x 5 columns]"
      ]
     },
     "execution_count": 4,
     "metadata": {},
     "output_type": "execute_result"
    }
   ],
   "source": [
    "file"
   ]
  },
  {
   "cell_type": "code",
   "execution_count": 5,
   "metadata": {},
   "outputs": [],
   "source": [
    "reads=file[file.direction==0]\n",
    "writes=file[file.direction==1]\n",
    "reads=reads.set_index(\"time\")\n",
    "writes=writes.set_index(\"time\")"
   ]
  },
  {
   "cell_type": "code",
   "execution_count": 6,
   "metadata": {},
   "outputs": [
    {
     "name": "stdout",
     "output_type": "stream",
     "text": [
      "      value  direction  d1  d2\n",
      "time                          \n",
      "1000  34614          0   0   0\n",
      "2000  34561          0   0   0\n",
      "3000  34707          0   0   0\n",
      "4001  34342          0   0   0\n",
      "5001  34678          0   0   0\n",
      "      value  direction  d1  d2\n",
      "time                          \n",
      "1000  34659          1   0   0\n",
      "2000  34126          1   0   0\n",
      "3000  34920          1   0   0\n",
      "4001  34739          1   0   0\n",
      "5001  34252          1   0   0\n"
     ]
    }
   ],
   "source": [
    "print(reads[:5])\n",
    "print(writes[:5])"
   ]
  },
  {
   "cell_type": "code",
   "execution_count": 29,
   "metadata": {},
   "outputs": [
    {
     "name": "stdout",
     "output_type": "stream",
     "text": [
      "<class 'pandas.core.frame.DataFrame'>\n"
     ]
    }
   ],
   "source": [
    "# Create dataframe\n",
    "rw=pd.DataFrame()\n",
    "# Need to use insert here, rather than a simple assign else the df\n",
    "# will be converted to a Series\n",
    "rw.insert(0,\"reads\",reads[\"value\"])\n",
    "rw.insert(1,\"writes\",writes[\"value\"])\n",
    "#Now add a total column using assign\n",
    "rw=rw.assign(total=rw.sum(axis=1))\n",
    "\n",
    "\n",
    "\n"
   ]
  },
  {
   "cell_type": "code",
   "execution_count": 39,
   "metadata": {},
   "outputs": [
    {
     "data": {
      "text/html": [
       "<div>\n",
       "<style scoped>\n",
       "    .dataframe tbody tr th:only-of-type {\n",
       "        vertical-align: middle;\n",
       "    }\n",
       "\n",
       "    .dataframe tbody tr th {\n",
       "        vertical-align: top;\n",
       "    }\n",
       "\n",
       "    .dataframe thead th {\n",
       "        text-align: right;\n",
       "    }\n",
       "</style>\n",
       "<table border=\"1\" class=\"dataframe\">\n",
       "  <thead>\n",
       "    <tr style=\"text-align: right;\">\n",
       "      <th></th>\n",
       "      <th>time</th>\n",
       "      <th>reads</th>\n",
       "      <th>writes</th>\n",
       "      <th>total</th>\n",
       "    </tr>\n",
       "  </thead>\n",
       "  <tbody>\n",
       "    <tr>\n",
       "      <th>0</th>\n",
       "      <td>1000</td>\n",
       "      <td>34614</td>\n",
       "      <td>34659</td>\n",
       "      <td>69273</td>\n",
       "    </tr>\n",
       "    <tr>\n",
       "      <th>1</th>\n",
       "      <td>2000</td>\n",
       "      <td>34561</td>\n",
       "      <td>34126</td>\n",
       "      <td>68687</td>\n",
       "    </tr>\n",
       "    <tr>\n",
       "      <th>2</th>\n",
       "      <td>3000</td>\n",
       "      <td>34707</td>\n",
       "      <td>34920</td>\n",
       "      <td>69627</td>\n",
       "    </tr>\n",
       "    <tr>\n",
       "      <th>3</th>\n",
       "      <td>4001</td>\n",
       "      <td>34342</td>\n",
       "      <td>34739</td>\n",
       "      <td>69081</td>\n",
       "    </tr>\n",
       "    <tr>\n",
       "      <th>4</th>\n",
       "      <td>5001</td>\n",
       "      <td>34678</td>\n",
       "      <td>34252</td>\n",
       "      <td>68930</td>\n",
       "    </tr>\n",
       "  </tbody>\n",
       "</table>\n",
       "</div>"
      ],
      "text/plain": [
       "   time  reads  writes  total\n",
       "0  1000  34614   34659  69273\n",
       "1  2000  34561   34126  68687\n",
       "2  3000  34707   34920  69627\n",
       "3  4001  34342   34739  69081\n",
       "4  5001  34678   34252  68930"
      ]
     },
     "execution_count": 39,
     "metadata": {},
     "output_type": "execute_result"
    }
   ],
   "source": [
    "rw[:5]"
   ]
  },
  {
   "cell_type": "code",
   "execution_count": 32,
   "metadata": {},
   "outputs": [],
   "source": [
    "rw=rw.reset_index()"
   ]
  },
  {
   "cell_type": "code",
   "execution_count": 34,
   "metadata": {},
   "outputs": [
    {
     "data": {
      "text/html": [
       "<div>\n",
       "<style scoped>\n",
       "    .dataframe tbody tr th:only-of-type {\n",
       "        vertical-align: middle;\n",
       "    }\n",
       "\n",
       "    .dataframe tbody tr th {\n",
       "        vertical-align: top;\n",
       "    }\n",
       "\n",
       "    .dataframe thead th {\n",
       "        text-align: right;\n",
       "    }\n",
       "</style>\n",
       "<table border=\"1\" class=\"dataframe\">\n",
       "  <thead>\n",
       "    <tr style=\"text-align: right;\">\n",
       "      <th></th>\n",
       "      <th>time</th>\n",
       "      <th>reads</th>\n",
       "      <th>writes</th>\n",
       "      <th>total</th>\n",
       "    </tr>\n",
       "  </thead>\n",
       "  <tbody>\n",
       "    <tr>\n",
       "      <th>0</th>\n",
       "      <td>1000</td>\n",
       "      <td>34614</td>\n",
       "      <td>34659</td>\n",
       "      <td>69273</td>\n",
       "    </tr>\n",
       "    <tr>\n",
       "      <th>1</th>\n",
       "      <td>2000</td>\n",
       "      <td>34561</td>\n",
       "      <td>34126</td>\n",
       "      <td>68687</td>\n",
       "    </tr>\n",
       "    <tr>\n",
       "      <th>2</th>\n",
       "      <td>3000</td>\n",
       "      <td>34707</td>\n",
       "      <td>34920</td>\n",
       "      <td>69627</td>\n",
       "    </tr>\n",
       "    <tr>\n",
       "      <th>3</th>\n",
       "      <td>4001</td>\n",
       "      <td>34342</td>\n",
       "      <td>34739</td>\n",
       "      <td>69081</td>\n",
       "    </tr>\n",
       "    <tr>\n",
       "      <th>4</th>\n",
       "      <td>5001</td>\n",
       "      <td>34678</td>\n",
       "      <td>34252</td>\n",
       "      <td>68930</td>\n",
       "    </tr>\n",
       "  </tbody>\n",
       "</table>\n",
       "</div>"
      ],
      "text/plain": [
       "   time  reads  writes  total\n",
       "0  1000  34614   34659  69273\n",
       "1  2000  34561   34126  68687\n",
       "2  3000  34707   34920  69627\n",
       "3  4001  34342   34739  69081\n",
       "4  5001  34678   34252  68930"
      ]
     },
     "execution_count": 34,
     "metadata": {},
     "output_type": "execute_result"
    }
   ],
   "source": [
    "rw[:5]"
   ]
  },
  {
   "cell_type": "code",
   "execution_count": 48,
   "metadata": {},
   "outputs": [
    {
     "data": {
      "image/png": "[encoded data removed]",
      "text/plain": [
       "<Figure size 640x480 with 1 Axes>"
      ]
     },
     "metadata": {},
     "output_type": "display_data"
    }
   ],
   "source": [
    "plt.plot(rw[\"reads\"],label=\"frf\")\n",
    "plt.plot(rw[\"writes\"],label=\"ggg\")\n",
    "plt.legend(bbox_to_anchor = (1.25, 0.6), loc='center right')\n",
    "plt.tight_layout()\n",
    "plt.ylabel(\"IOPS\")\n",
    "plt.show()"
   ]
  },
  {
   "cell_type": "code",
   "execution_count": 35,
   "metadata": {},
   "outputs": [],
   "source": [
    "c=pd.read_csv(\"/Users/gary/git/fio-tools/fio-iop-logs/random-rw-4-jobs_iops.1.log\",names=[\"time\",\"value\",\"direction\",\"d1\",\"d2\"])"
   ]
  },
  {
   "cell_type": "code",
   "execution_count": 37,
   "metadata": {},
   "outputs": [
    {
     "data": {
      "text/plain": [
       "time         120\n",
       "value        120\n",
       "direction    120\n",
       "d1           120\n",
       "d2           120\n",
       "dtype: int64"
      ]
     },
     "execution_count": 37,
     "metadata": {},
     "output_type": "execute_result"
    }
   ],
   "source": [
    "c.count()"
   ]
  },
  {
   "cell_type": "code",
   "execution_count": 51,
   "metadata": {},
   "outputs": [
    {
     "name": "stdout",
     "output_type": "stream",
     "text": [
      "2g-read-60s_bw.1.log\n",
      "2g-read-60s_bw.2.log\n",
      "2g-read-60s_bw.3.log\n",
      "README.md\n",
      "Untitled-1.ipynb\n",
      "aggregate_tmp.png\n",
      "\u001b[34mfio-3.28-example\u001b[m\u001b[m\n",
      "fio-bw.1.log\n",
      "fio-bw.2.log\n",
      "fio-bw.3.log\n",
      "\u001b[34mfio-iop-logs\u001b[m\u001b[m\n",
      "fio-log-pandas-notebook.ipynb\n",
      "fio_log_summary.py\n",
      "fio_pandas.py\n",
      "pandas-pandas.png\n",
      "read_tmp.png\n",
      "rw.ipynb\n",
      "testimgcat.py\n",
      "write_tmp.png\n"
     ]
    },
    {
     "data": {
      "text/plain": [
       "CompletedProcess(args='/bin/ls', returncode=0)"
      ]
     },
     "execution_count": 51,
     "metadata": {},
     "output_type": "execute_result"
    }
   ],
   "source": [
    "\n",
    "import subprocess\n",
    "subprocess.run('/bin/ls')\n",
    "#subprocess.run('/bin/ls')"
   ]
  },
  {
   "cell_type": "code",
   "execution_count": null,
   "metadata": {},
   "outputs": [],
   "source": []
  }
 ],
 "metadata": {
  "kernelspec": {
   "display_name": "Python 3",
   "language": "python",
   "name": "python3"
  },
  "language_info": {
   "codemirror_mode": {
    "name": "ipython",
    "version": 3
   },
   "file_extension": ".py",
   "mimetype": "text/x-python",
   "name": "python",
   "nbconvert_exporter": "python",
   "pygments_lexer": "ipython3",
   "version": "3.9.12"
  },
  "orig_nbformat": 4
 },
 "nbformat": 4,
 "nbformat_minor": 2
}
